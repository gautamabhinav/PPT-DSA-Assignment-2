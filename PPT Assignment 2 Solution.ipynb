{
 "cells": [
  {
   "cell_type": "code",
   "execution_count": null,
   "id": "55a5b3cc",
   "metadata": {},
   "outputs": [],
   "source": [
    "# PPT Assignment 2"
   ]
  },
  {
   "cell_type": "code",
   "execution_count": null,
   "id": "cf7704a1",
   "metadata": {},
   "outputs": [
    {
     "name": "stdout",
     "output_type": "stream",
     "text": [
      "Output: 4\n"
     ]
    }
   ],
   "source": [
    "#1\n",
    "def arrayPairSum(nums):\n",
    "    nums.sort()  # Sort the array in ascending order\n",
    "    max_sum = 0\n",
    "\n",
    "    # Pair adjacent elements and sum up the smaller elements in each pair\n",
    "    for i in range(0, len(nums), 2):\n",
    "        max_sum += nums[i]\n",
    "\n",
    "    return max_sum\n",
    "\n",
    "nums = [1, 4, 3, 2]\n",
    "result = arrayPairSum(nums)\n",
    "\n",
    "print(\"Output:\", result)\n"
   ]
  },
  {
   "cell_type": "code",
   "execution_count": 2,
   "id": "156dfeb0",
   "metadata": {},
   "outputs": [
    {
     "name": "stdout",
     "output_type": "stream",
     "text": [
      "Output: 3\n"
     ]
    }
   ],
   "source": [
    "#2\n",
    "def distributeCandies(candyType):\n",
    "    max_types = len(set(candyType))\n",
    "    max_eatable = len(candyType) // 2\n",
    "\n",
    "    return min(max_types, max_eatable)\n",
    "\n",
    "candyType = [1, 1, 2, 2, 3, 3]\n",
    "result = distributeCandies(candyType)\n",
    "\n",
    "print(\"Output:\", result)\n"
   ]
  },
  {
   "cell_type": "code",
   "execution_count": 3,
   "id": "e2a5f24d",
   "metadata": {},
   "outputs": [
    {
     "name": "stdout",
     "output_type": "stream",
     "text": [
      "Output: 5\n"
     ]
    }
   ],
   "source": [
    "#3\n",
    "def findLHS(nums):\n",
    "    num_freq = {}  # Dictionary to store frequency of numbers\n",
    "    max_length = 0\n",
    "\n",
    "    # Count the frequency of each number\n",
    "    for num in nums:\n",
    "        num_freq[num] = num_freq.get(num, 0) + 1\n",
    "\n",
    "    # Check for harmonious subsequences\n",
    "    for num in num_freq:\n",
    "        if num + 1 in num_freq:\n",
    "            length = num_freq[num] + num_freq[num + 1]\n",
    "            max_length = max(max_length, length)\n",
    "\n",
    "    return max_length\n",
    "\n",
    "nums = [1, 3, 2, 2, 5, 2, 3, 7]\n",
    "result = findLHS(nums)\n",
    "\n",
    "print(\"Output:\", result)\n"
   ]
  },
  {
   "cell_type": "code",
   "execution_count": 4,
   "id": "b458ba43",
   "metadata": {},
   "outputs": [
    {
     "name": "stdout",
     "output_type": "stream",
     "text": [
      "Output: True\n"
     ]
    }
   ],
   "source": [
    "#4\n",
    "def canPlaceFlowers(flowerbed, n):\n",
    "    length = len(flowerbed)\n",
    "    count = 0\n",
    "    i = 0\n",
    "\n",
    "    while i < length:\n",
    "        if flowerbed[i] == 0 and (i == 0 or flowerbed[i - 1] == 0) and (i == length - 1 or flowerbed[i + 1] == 0):\n",
    "            flowerbed[i] = 1\n",
    "            count += 1\n",
    "        i += 1\n",
    "\n",
    "    return count >= n\n",
    "\n",
    "flowerbed = [1, 0, 0, 0, 1]\n",
    "n = 1\n",
    "result = canPlaceFlowers(flowerbed, n)\n",
    "\n",
    "print(\"Output:\", result)\n"
   ]
  },
  {
   "cell_type": "code",
   "execution_count": 5,
   "id": "fd209204",
   "metadata": {},
   "outputs": [
    {
     "name": "stdout",
     "output_type": "stream",
     "text": [
      "Output: 6\n"
     ]
    }
   ],
   "source": [
    "#6\n",
    "def maximumProduct(nums):\n",
    "    nums.sort()\n",
    "    return max(nums[-1] * nums[-2] * nums[-3], nums[0] * nums[1] * nums[-1])\n",
    "\n",
    "nums = [1, 2, 3]\n",
    "result = maximumProduct(nums)\n",
    "\n",
    "print(\"Output:\", result)\n"
   ]
  },
  {
   "cell_type": "code",
   "execution_count": 6,
   "id": "5ea37faf",
   "metadata": {},
   "outputs": [
    {
     "name": "stdout",
     "output_type": "stream",
     "text": [
      "Output: 4\n"
     ]
    }
   ],
   "source": [
    "#6\n",
    "def search(nums, target):\n",
    "    left = 0\n",
    "    right = len(nums) - 1\n",
    "\n",
    "    while left <= right:\n",
    "        mid = left + (right - left) // 2\n",
    "\n",
    "        if nums[mid] == target:\n",
    "            return mid\n",
    "        elif nums[mid] < target:\n",
    "            left = mid + 1\n",
    "        else:\n",
    "            right = mid - 1\n",
    "\n",
    "    return -1\n",
    "\n",
    "nums = [-1, 0, 3, 5, 9, 12]\n",
    "target = 9\n",
    "result = search(nums, target)\n",
    "\n",
    "print(\"Output:\", result)\n"
   ]
  },
  {
   "cell_type": "code",
   "execution_count": 7,
   "id": "2556f050",
   "metadata": {},
   "outputs": [
    {
     "name": "stdout",
     "output_type": "stream",
     "text": [
      "Output: True\n"
     ]
    }
   ],
   "source": [
    "#7\n",
    "def isMonotonic(nums):\n",
    "    is_increasing = True\n",
    "    is_decreasing = True\n",
    "\n",
    "    for i in range(1, len(nums)):\n",
    "        if nums[i] < nums[i - 1]:\n",
    "            is_increasing = False\n",
    "        if nums[i] > nums[i - 1]:\n",
    "            is_decreasing = False\n",
    "\n",
    "    return is_increasing or is_decreasing\n",
    "\n",
    "nums = [1, 2, 2, 3]\n",
    "result = isMonotonic(nums)\n",
    "\n",
    "print(\"Output:\", result)\n"
   ]
  },
  {
   "cell_type": "code",
   "execution_count": 8,
   "id": "bc64e817",
   "metadata": {},
   "outputs": [
    {
     "name": "stdout",
     "output_type": "stream",
     "text": [
      "Output: 0\n"
     ]
    }
   ],
   "source": [
    "#8\n",
    "def minimumScore(nums, k):\n",
    "    min_val = min(nums)\n",
    "    max_val = max(nums)\n",
    "\n",
    "    scenario1_score = max_val - min_val\n",
    "\n",
    "    for i in range(len(nums)):\n",
    "        for x in range(-k, k+1):\n",
    "            nums[i] += x\n",
    "            min_val = min(min_val, nums[i])\n",
    "            max_val = max(max_val, nums[i])\n",
    "            nums[i] -= x\n",
    "\n",
    "    scenario2_score = max_val - min_val\n",
    "\n",
    "    return min(scenario1_score, scenario2_score)\n",
    "\n",
    "nums = [1]\n",
    "k = 0\n",
    "result = minimumScore(nums, k)\n",
    "\n",
    "print(\"Output:\", result)\n"
   ]
  },
  {
   "cell_type": "code",
   "execution_count": null,
   "id": "b935c980",
   "metadata": {},
   "outputs": [],
   "source": []
  }
 ],
 "metadata": {
  "kernelspec": {
   "display_name": "Python 3 (ipykernel)",
   "language": "python",
   "name": "python3"
  },
  "language_info": {
   "codemirror_mode": {
    "name": "ipython",
    "version": 3
   },
   "file_extension": ".py",
   "mimetype": "text/x-python",
   "name": "python",
   "nbconvert_exporter": "python",
   "pygments_lexer": "ipython3",
   "version": "3.10.5"
  }
 },
 "nbformat": 4,
 "nbformat_minor": 5
}
